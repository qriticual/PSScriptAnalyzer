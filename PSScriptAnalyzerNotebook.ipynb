{
 "cells": [
  {
   "cell_type": "markdown",
   "metadata": {},
   "source": [
    "# **Introduction to PSScriptAnalyzer** 🚀"
   ]
  },
  {
   "cell_type": "markdown",
   "metadata": {},
   "source": [
    "## **What is PSScriptAnalyzer?**"
   ]
  },
  {
   "cell_type": "markdown",
   "metadata": {},
   "source": [
    "PSScriptAnalyzer is a static code checker for PowerShell modules and scripts. PSScriptAnalyzer can be used to check the quality of PowerShell by running a set of rules. It is possible to use built-in rules based on PowerShell best practices identified by PowerShell Team and the community. It is also possible to write custom rules or/and combine the two. It generates DiagnosticResults (errors and warnings) to inform users about potential code defects and suggests possible solutions for improvements."
   ]
  },
  {
   "cell_type": "markdown",
   "metadata": {},
   "source": [
    "## **Why Use PSScriptAnalyzer?**"
   ]
  },
  {
   "cell_type": "markdown",
   "metadata": {},
   "source": [
    "One of the key reasons to use PSScriptAnalyzer is to minimize technical debt. By enforcing code quality and adhering to best practices, you can prevent the accumulation of issues that could lead to maintenance challenges later on."
   ]
  },
  {
   "cell_type": "markdown",
   "metadata": {},
   "source": [
    "## **How to Get Started**"
   ]
  },
  {
   "cell_type": "markdown",
   "metadata": {},
   "source": [
    "### **Clone git repo**"
   ]
  },
  {
   "cell_type": "markdown",
   "metadata": {},
   "source": [
    "```bash \n",
    "    git clone https://github.com/qriticual/PSScriptAnalyzer.git\n",
    "```"
   ]
  },
  {
   "cell_type": "markdown",
   "metadata": {},
   "source": [
    "### **Installation**\n",
    "To install PSScriptAnalyzer, use the following PowerShell command:"
   ]
  },
  {
   "cell_type": "markdown",
   "metadata": {
    "vscode": {
     "languageId": "powershell"
    }
   },
   "source": [
    "```powershell\n",
    "    Install-Module -Name PSScriptAnalyzer -Force\n",
    "```"
   ]
  },
  {
   "cell_type": "markdown",
   "metadata": {},
   "source": [
    "We also need to install the `PowerShell` extension in VSCode"
   ]
  },
  {
   "cell_type": "markdown",
   "metadata": {},
   "source": [
    "### **Setting Up PSScriptAnalyzer in VSCode**"
   ]
  },
  {
   "cell_type": "markdown",
   "metadata": {},
   "source": [
    "To ensure a seamless experience within Visual Studio Code (VSCode), follow these steps:\n",
    "\n",
    "1. Open the `.vscode/settings.json` file in your project.\n",
    "\n",
    "2. Add the following lines to the file:"
   ]
  },
  {
   "cell_type": "markdown",
   "metadata": {},
   "source": [
    "```json\n",
    "{\n",
    "    \"powershell.scriptAnalysis.enable\": true,\n",
    "    \"powershell.scriptAnalysis.settingsPath\": \"PSScriptAnalyzerSettings.psd1\"\n",
    "}\n",
    "```"
   ]
  },
  {
   "cell_type": "markdown",
   "metadata": {},
   "source": [
    "\n",
    "This will ensure that you:\n",
    "- Enable scriptAnalysis for your IDE. \n",
    "- Specify the use of settings defined in the PSScriptAnalyzerSettings.psd1 file."
   ]
  },
  {
   "cell_type": "markdown",
   "metadata": {},
   "source": [
    "Create a new file named `PSScriptAnalyzerSettings.psd1` in your project's root directory. \n",
    "\n",
    "Here's a simple content for `PSScriptAnalyzerSettings.psd1`:\n"
   ]
  },
  {
   "cell_type": "code",
   "execution_count": null,
   "metadata": {
    "vscode": {
     "languageId": "powershell"
    }
   },
   "outputs": [],
   "source": [
    "# PSScriptAnalyzerSettings.psd1\n",
    "@{\n",
    "    IncludeDefaultRules = $true\n",
    "}"
   ]
  },
  {
   "cell_type": "markdown",
   "metadata": {},
   "source": [
    "Create a new .ps1 file and try it out. One default rule is that $null should be on the left hand side of equality comparison."
   ]
  },
  {
   "cell_type": "code",
   "execution_count": null,
   "metadata": {
    "vscode": {
     "languageId": "powershell"
    }
   },
   "outputs": [],
   "source": [
    "if ($he -eq $null) { Write-Output 'Hello World' \n",
    "}"
   ]
  },
  {
   "cell_type": "markdown",
   "metadata": {},
   "source": [
    "### **Use built-in rules**"
   ]
  },
  {
   "cell_type": "markdown",
   "metadata": {},
   "source": [
    "PSScriptAnalyzer comes with predefined rules that can be included or excluded. [Learn more about built-in rules.](https://learn.microsoft.com/en-us/powershell/utility-modules/psscriptanalyzer/rules/readme?view=ps-modules)"
   ]
  },
  {
   "cell_type": "markdown",
   "metadata": {},
   "source": [
    "To use some built-in rules, update your `PSScriptAnalyzerSettings.psd1`:"
   ]
  },
  {
   "cell_type": "code",
   "execution_count": null,
   "metadata": {
    "vscode": {
     "languageId": "powershell"
    }
   },
   "outputs": [],
   "source": [
    "@{\n",
    "    Rules               = @{\n",
    "        PSPlaceOpenBrace           = @{\n",
    "            Enable             = $true\n",
    "            OnSameLine         = $true\n",
    "            NewLineAfter       = $true\n",
    "            IgnoreOneLineBlock = $true\n",
    "        }\n",
    "        PSPlaceCloseBrace          = @{\n",
    "            Enable             = $true\n",
    "            NoEmptyLineBefore  = $true\n",
    "            IgnoreOneLineBlock = $true\n",
    "            NewLineAfter       = $false\n",
    "        }\n",
    "        PSAlignAssignmentStatement = @{\n",
    "            Enable         = $true\n",
    "            CheckHashtable = $true\n",
    "        }\n",
    "    }\n",
    "    IncludeDefaultRules = $true\n",
    "    IncludeRules        = @(\n",
    "        # Default rules\n",
    "        'PSPlaceOpenBrace'\n",
    "        'PSPlaceCloseBrace'\n",
    "        'PSAlignAssignmentStatement'\n",
    "    )\n",
    "}"
   ]
  },
  {
   "cell_type": "markdown",
   "metadata": {},
   "source": [
    "See the 'yellow' marked errors in the syntax and recommended actions to resolve the issues. Mark code block and press shift+alt+f to autofix syntax errors."
   ]
  },
  {
   "cell_type": "code",
   "execution_count": null,
   "metadata": {
    "vscode": {
     "languageId": "powershell"
    }
   },
   "outputs": [],
   "source": [
    "if($he -eq $null){\n",
    "    Write-Output 'Hello World'}   "
   ]
  },
  {
   "cell_type": "markdown",
   "metadata": {},
   "source": [
    "### **Use custom rules rules**"
   ]
  },
  {
   "cell_type": "markdown",
   "metadata": {},
   "source": [
    "Create a CustomPSScriptAnalyzerRules.psm1 file with a custom rule. For example, a rule to replace Invoke-Something with Invoke-SomethingElse:\n",
    "\n",
    "[Learn more about custom rules.](https://learn.microsoft.com/en-us/powershell/utility-modules/psscriptanalyzer/create-custom-rule?view=ps-modules)"
   ]
  },
  {
   "cell_type": "code",
   "execution_count": null,
   "metadata": {
    "vscode": {
     "languageId": "powershell"
    }
   },
   "outputs": [],
   "source": [
    "function Invoke-SomethingRule {\n",
    "    <#\n",
    "    .DESCRIPTION\n",
    "        Custom rule to warn against using Invoke-Something and suggest Invoke-SomethingElse.\n",
    "    #>\n",
    "\n",
    "    param(\n",
    "        [System.Management.Automation.Language.CommandAst]$ast\n",
    "    )\n",
    "\n",
    "    if ($ast.GetCommandName() -eq 'Invoke-Something') {\n",
    "        Write-Verbose 'hello'\n",
    "        [int]$startLineNumber = $ast.Extent.StartLineNumber\n",
    "        [int]$endLineNumber = $ast.Extent.EndLineNumber\n",
    "        [int]$startColumnNumber = $ast.Extent.StartColumnNumber\n",
    "        [int]$endColumnNumber = $ast.Extent.EndColumnNumber\n",
    "        [string]$correction = 'Invoke-SomethingElse'\n",
    "        # [string]$file = $MyInvocation.MyCommand.Definition\n",
    "        [string]$optionalDescription = 'Useful but optional description text'\n",
    "        $objParams = @{\n",
    "            TypeName     = 'Microsoft.Windows.PowerShell.ScriptAnalyzer.Generic.CorrectionExtent'\n",
    "            ArgumentList = $startLineNumber, $endLineNumber, $startColumnNumber,\n",
    "            $endColumnNumber, $correction, $optionalDescription\n",
    "        }\n",
    "        $correctionExtent = New-Object @objParams\n",
    "        $suggestedCorrections = New-Object System.Collections.ObjectModel.Collection[$($objParams.TypeName)]\n",
    "        $suggestedCorrections.add($correctionExtent) | Out-Null\n",
    "\n",
    "        $diagnosticRecord = [Microsoft.Windows.PowerShell.ScriptAnalyzer.Generic.DiagnosticRecord]@{\n",
    "            Message              = \"Don't use Invoke-Something; use Invoke-SomethingElse instead.\"\n",
    "            Extent               = $ast.Extent\n",
    "            RuleName             = 'Invoke-SomethingRule'\n",
    "            Severity             = 'Warning'\n",
    "            SuggestedCorrections = $suggestedCorrections\n",
    "        }\n",
    "\n",
    "        return $diagnosticRecord\n",
    "    }\n",
    "}\n",
    "\n",
    "Export-ModuleMember -Function Invoke-SomethingRule"
   ]
  },
  {
   "cell_type": "markdown",
   "metadata": {},
   "source": [
    "Update your settings file to include the custom rule:"
   ]
  },
  {
   "cell_type": "code",
   "execution_count": null,
   "metadata": {
    "vscode": {
     "languageId": "powershell"
    }
   },
   "outputs": [],
   "source": [
    "@{\n",
    "    Rules               = @{\n",
    "        PSPlaceOpenBrace           = @{\n",
    "            Enable             = $true\n",
    "            OnSameLine         = $true\n",
    "            NewLineAfter       = $true\n",
    "            IgnoreOneLineBlock = $true\n",
    "        }\n",
    "        PSPlaceCloseBrace          = @{\n",
    "            Enable             = $true\n",
    "            NoEmptyLineBefore  = $true\n",
    "            IgnoreOneLineBlock = $true\n",
    "            NewLineAfter       = $false\n",
    "        }\n",
    "        PSAlignAssignmentStatement = @{\n",
    "            Enable         = $true\n",
    "            CheckHashtable = $true\n",
    "        }\n",
    "    }\n",
    "    IncludeDefaultRules = $true\n",
    "    CustomRulePath      = 'CustomPSScriptAnalyzerRules.psm1'\n",
    "    IncludeRules        = @(\n",
    "        # Default rules\n",
    "        'PSPlaceOpenBrace'\n",
    "        'PSPlaceCloseBrace'\n",
    "        'PSAlignAssignmentStatement'\n",
    "        # Custom rules\n",
    "        'Invoke-SomethingRule'\n",
    "    )\n",
    "}"
   ]
  },
  {
   "cell_type": "markdown",
   "metadata": {},
   "source": [
    "Test the new custom rule:"
   ]
  },
  {
   "cell_type": "code",
   "execution_count": null,
   "metadata": {
    "vscode": {
     "languageId": "powershell"
    }
   },
   "outputs": [],
   "source": [
    "Invoke-Something"
   ]
  },
  {
   "cell_type": "markdown",
   "metadata": {},
   "source": [
    "### **Use it from the terminal/as a script**"
   ]
  },
  {
   "cell_type": "markdown",
   "metadata": {},
   "source": [
    "PSScriptAnalyzer can also be used from the terminal and not only in the IDE. This offers opportunities like scanning the whole repository for warnings at once and using it in a pipeline to scan for errors.\n",
    "\n",
    "To use it, execute the `Invoke-ScriptAnalyzer` command from the `PSScriptAnalyzer` module. For reference on how to use it, visit [Using ScriptAnalyzer.](https://learn.microsoft.com/en-us/powershell/utility-modules/psscriptanalyzer/using-scriptanalyzer?view=ps-modules)"
   ]
  },
  {
   "cell_type": "code",
   "execution_count": null,
   "metadata": {
    "vscode": {
     "languageId": "powershell"
    }
   },
   "outputs": [],
   "source": [
    "# built-inpresets 'DSC', 'PSGallery', 'CodeFormatting'\n",
    "# Invoke-ScriptAnalyzer -Path './scriptAnalyzer.ps1' -Settings 'CodeFormatting'\n",
    "Invoke-ScriptAnalyzer -Path './test.ps1' -Settings './PSScriptAnalyzerSettings.psd1'"
   ]
  },
  {
   "cell_type": "markdown",
   "metadata": {},
   "source": [
    "Use it to scan the whole repository:"
   ]
  },
  {
   "cell_type": "code",
   "execution_count": null,
   "metadata": {
    "vscode": {
     "languageId": "powershell"
    }
   },
   "outputs": [],
   "source": [
    "$ps1files = Get-ChildItem -Filter '*.ps1' -Recurse\n",
    "\n",
    "foreach ($file in $ps1files) {\n",
    "    Write-Output \"`n*** $($file.Directory.Name):`n\"\n",
    "    Invoke-ScriptAnalyzer -Path $file -Settings '.\\PSScriptAnalyzerSettings.psd1'\n",
    "}"
   ]
  },
  {
   "cell_type": "markdown",
   "metadata": {},
   "source": [
    "### **Auto fixes as a script**"
   ]
  },
  {
   "cell_type": "markdown",
   "metadata": {},
   "source": [
    "To apply fixes on one single file:\n",
    "```powershell\n",
    "    Invoke-ScriptAnalyzer -Path scriptAnalyzer.ps1 -Fix\n",
    "```"
   ]
  },
  {
   "cell_type": "markdown",
   "metadata": {},
   "source": [
    "To apply fixes on every .ps1 file in your current folder:\n",
    "```powershell\n",
    "    $ps1files = Get-ChildItem -Filter '*.ps1' -Recurse\n",
    "\n",
    "    foreach ($file in $ps1files) {\n",
    "        Write-Output \"`n*** $($file.Directory.Name):`n\"\n",
    "        Invoke-ScriptAnalyzer -Path $file -Settings '.\\PSScriptAnalyzerSettings.psd1' -Fix\n",
    "    }\n",
    "```"
   ]
  },
  {
   "cell_type": "markdown",
   "metadata": {},
   "source": [
    "### **Auto fixes VSCode short command**\n",
    "alt + shift + f "
   ]
  },
  {
   "cell_type": "markdown",
   "metadata": {},
   "source": [
    "### **Additional custom rules**"
   ]
  },
  {
   "cell_type": "code",
   "execution_count": null,
   "metadata": {
    "vscode": {
     "languageId": "powershell"
    }
   },
   "outputs": [],
   "source": [
    "function Invoke-SomethingRule {\n",
    "    <#\n",
    "    .DESCRIPTION\n",
    "        Custom rule to warn against using Invoke-Something and suggest Invoke-SomethingElse.\n",
    "    #>\n",
    "\n",
    "    param(\n",
    "        [System.Management.Automation.Language.CommandAst]$ast\n",
    "    )\n",
    "\n",
    "    if ($ast.GetCommandName() -eq 'Invoke-Something') {\n",
    "        Write-Verbose 'hello'\n",
    "        [int]$startLineNumber = $ast.Extent.StartLineNumber\n",
    "        [int]$endLineNumber = $ast.Extent.EndLineNumber\n",
    "        [int]$startColumnNumber = $ast.Extent.StartColumnNumber\n",
    "        [int]$endColumnNumber = $ast.Extent.EndColumnNumber\n",
    "        [string]$correction = 'Invoke-SomethingElse'\n",
    "        # [string]$file = $MyInvocation.MyCommand.Definition\n",
    "        [string]$optionalDescription = 'Useful but optional description text'\n",
    "        $objParams = @{\n",
    "            TypeName     = 'Microsoft.Windows.PowerShell.ScriptAnalyzer.Generic.CorrectionExtent'\n",
    "            ArgumentList = $startLineNumber, $endLineNumber, $startColumnNumber,\n",
    "            $endColumnNumber, $correction, $optionalDescription\n",
    "        }\n",
    "        $correctionExtent = New-Object @objParams\n",
    "        $suggestedCorrections = New-Object System.Collections.ObjectModel.Collection[$($objParams.TypeName)]\n",
    "        $suggestedCorrections.add($correctionExtent) | Out-Null\n",
    "\n",
    "        $diagnosticRecord = [Microsoft.Windows.PowerShell.ScriptAnalyzer.Generic.DiagnosticRecord]@{\n",
    "            Message              = \"Don't use Invoke-Something; use Invoke-SomethingElse instead.\"\n",
    "            Extent               = $ast.Extent\n",
    "            RuleName             = 'Invoke-SomethingRule'\n",
    "            Severity             = 'Warning'\n",
    "            SuggestedCorrections = $suggestedCorrections\n",
    "        }\n",
    "\n",
    "        return $diagnosticRecord\n",
    "    }\n",
    "}\n",
    "\n",
    "Export-ModuleMember -Function Invoke-SomethingRule\n",
    "\n",
    "function Test-UnaryOperatorRule { \n",
    "    <#\n",
    "    .DESCRIPTION\n",
    "        Custom rule to warn against using spaces when using unary operators and suggest removing them.\n",
    "    #>\n",
    "    param(\n",
    "        [System.Management.Automation.Language.UnaryExpressionAst]$ast\n",
    "    )\n",
    "\n",
    "    $pattern = '(\\+\\+|--)\\s|\\s(\\+\\+|--)'\n",
    "    if ($ast.Extent.Text -match $pattern) {\n",
    "        [int]$startLineNumber = $ast.Extent.StartLineNumber\n",
    "        [int]$endLineNumber = $ast.Extent.EndLineNumber\n",
    "        [int]$startColumnNumber = $ast.Extent.StartColumnNumber\n",
    "        [int]$endColumnNumber = $ast.Extent.EndColumnNumber\n",
    "        [string]$correction = $ast.Extent.Text -replace '\\s', ''\n",
    "        # [string]$file = $MyInvocation.MyCommand.Definition\n",
    "        [string]$optionalDescription = \"Don't use spaces when using unary operators; remove them instead\"\n",
    "\n",
    "        $objParams = @{\n",
    "            TypeName     = 'Microsoft.Windows.PowerShell.ScriptAnalyzer.Generic.CorrectionExtent'\n",
    "            ArgumentList = $startLineNumber, $endLineNumber, $startColumnNumber,\n",
    "            $endColumnNumber, $correction, $optionalDescription\n",
    "        }\n",
    "        $correctionExtent = New-Object @objParams\n",
    "        $suggestedCorrections = New-Object System.Collections.ObjectModel.Collection[$($objParams.TypeName)]\n",
    "        $suggestedCorrections.add($correctionExtent) | Out-Null\n",
    "    \n",
    "        $diagnosticRecord = [Microsoft.Windows.PowerShell.ScriptAnalyzer.Generic.DiagnosticRecord]@{\n",
    "            Message              = \"Don't use spaces when using unary operators; remove them instead.\"\n",
    "            Extent               = $ast.Extent\n",
    "            RuleName             = 'Test-UnaryOperatorRule'\n",
    "            Severity             = 'Warning'\n",
    "            SuggestedCorrections = $suggestedCorrections\n",
    "        }\n",
    "    \n",
    "        return $diagnosticRecord\n",
    "    }\n",
    "}   \n",
    "\n",
    "Export-ModuleMember -Function Test-UnaryOperatorRule\n",
    "\n",
    "function Test-FunctionCasing {\n",
    "    [CmdletBinding()] [OutputType([PSCustomObject[]])] param (\n",
    "        [Parameter(Mandatory)] [ValidateNotNullOrEmpty()] [System.Management.Automation.Language.ScriptBlockAst]$ScriptBlockAst\n",
    "    )\n",
    "\n",
    "    process {\n",
    "        try {\n",
    "            $functions = $ScriptBlockAst.FindAll( \n",
    "                { \n",
    "                    $args[0] -is [System.Management.Automation.Language.FunctionDefinitionAst] -and\n",
    "                    $args[0].Name -cmatch '[A-Z]{2,}' \n",
    "                }, $true ) \n",
    "            foreach ( $function in $functions ) { \n",
    "                [PSCustomObject]@{ \n",
    "                    Message  = 'Avoid function names with adjacent caps in their name'\n",
    "                    Extent   = $function.Extent \n",
    "                    RuleName = $PSCmdlet.MyInvocation.InvocationName \n",
    "                    Severity = 'Warning' \n",
    "                }\n",
    "            }\n",
    "        } catch {\n",
    "            $PSCmdlet.ThrowTerminatingError( $_ )\n",
    "        }\n",
    "    }\n",
    "}\n",
    "\n",
    "Export-ModuleMember -Function Test-FunctionCasing "
   ]
  },
  {
   "cell_type": "markdown",
   "metadata": {},
   "source": [
    "### **Evolved settingsfile**"
   ]
  },
  {
   "cell_type": "code",
   "execution_count": null,
   "metadata": {
    "vscode": {
     "languageId": "powershell"
    }
   },
   "outputs": [],
   "source": [
    "@{\n",
    "    Rules               = @{\n",
    "        PSPlaceOpenBrace           = @{\n",
    "            Enable             = $true\n",
    "            OnSameLine         = $true\n",
    "            NewLineAfter       = $true\n",
    "            IgnoreOneLineBlock = $true\n",
    "        }\n",
    "        PSPlaceCloseBrace          = @{\n",
    "            Enable             = $true\n",
    "            NoEmptyLineBefore  = $true\n",
    "            IgnoreOneLineBlock = $true\n",
    "            NewLineAfter       = $false\n",
    "        }\n",
    "        PSUseConsistentIndentation = @{\n",
    "            Enable          = $true\n",
    "            IndentationSize = 4\n",
    "            Kind            = 'space'\n",
    "        }\n",
    "        PSUseConsistentWhitespace  = @{\n",
    "            Enable                                  = $true\n",
    "            CheckInnerBrace                         = $true\n",
    "            CheckOpenBrace                          = $true\n",
    "            CheckOpenParen                          = $true\n",
    "            CheckOperator                           = $true\n",
    "            CheckSeparator                          = $true\n",
    "            CheckPipe                               = $true\n",
    "            CheckPipeForRedundantWhitespace         = $true\n",
    "            CheckParameter                          = $true\n",
    "            IgnoreAssignmentOperatorInsideHashTable = $true\n",
    "        }\n",
    "        PSAlignAssignmentStatement = @{\n",
    "            Enable         = $true\n",
    "            CheckHashtable = $true\n",
    "        }\n",
    "    }\n",
    "    CustomRulePath      = 'CustomPSScriptAnalyzerRules.psm1'\n",
    "    IncludeDefaultRules = $true\n",
    "    IncludeRules        = @(\n",
    "        # Default rules\n",
    "        'PSPlaceOpenBrace'\n",
    "        'PSPlaceCloseBrace'\n",
    "        'PSUseConsistentIndentation'\n",
    "        'PSUseConsistentWhitespace'\n",
    "        'PSAlignAssignmentStatement'\n",
    "\n",
    "        # Custom rules\n",
    "        'Invoke-SomethingRule'\n",
    "        'Test-UnaryOperatorRule'\n",
    "        'Test-FunctionCasing'\n",
    "    )\n",
    "}"
   ]
  },
  {
   "cell_type": "markdown",
   "metadata": {},
   "source": [
    "For additional rules and recommendations from the PowerShell team and community, refer to [Rules and Recommendations.](https://learn.microsoft.com/en-us/powershell/utility-modules/psscriptanalyzer/rules-recommendations?view=ps-modules)"
   ]
  }
 ],
 "metadata": {
  "kernelspec": {
   "display_name": ".NET (PowerShell)",
   "language": "PowerShell",
   "name": ".net-powershell"
  },
  "language_info": {
   "file_extension": ".ps1",
   "mimetype": "text/x-powershell",
   "name": "PowerShell",
   "pygments_lexer": "powershell",
   "version": "7.0"
  },
  "orig_nbformat": 4
 },
 "nbformat": 4,
 "nbformat_minor": 2
}
